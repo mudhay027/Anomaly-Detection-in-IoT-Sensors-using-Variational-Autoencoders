{
  "cells": [
    {
      "cell_type": "code",
      "execution_count": null,
      "metadata": {},
      "outputs": [],
      "source": [
        "import pandas as pd\n",
        "from sklearn.preprocessing import StandardScaler\n",
        "from sklearn.model_selection import train_test_split"
      ]
    },
    {
      "cell_type": "code",
      "execution_count": null,
      "metadata": {
        "id": "AL5ixBsLBQSr"
      },
      "outputs": [],
      "source": [
        "# Load dataset\n",
        "df = pd.read_csv(\"/content/iot_sensor_data_with_anomalies.csv\")\n",
        "\n",
        "# Drop timestamp and label for training\n",
        "X = df.drop(columns=[\"Timestamp\", \"Label\"])\n",
        "y_true = df[\"Label\"]  # Save the true labels\n",
        "\n",
        "# Scale the features\n",
        "scaler = StandardScaler()\n",
        "X_scaled = scaler.fit_transform(X)\n",
        "\n",
        "# Use only normal data (Label = 0) to train the VAE\n",
        "X_normal = X_scaled[y_true == 0]\n",
        "\n",
        "# Split into training and validation sets\n",
        "X_train, X_val = train_test_split(X_normal, test_size=0.1, random_state=42)\n"
      ]
    },
    {
      "cell_type": "code",
      "execution_count": 34,
      "metadata": {
        "id": "-irTXgqLBSOX"
      },
      "outputs": [],
      "source": [
        "\n",
        "input_dim = X_train.shape[1]\n",
        "latent_dim = 2\n",
        "\n",
        "# Sampling Layer\n",
        "class Sampling(layers.Layer):\n",
        "    def call(self, inputs):\n",
        "        z_mean, z_log_var = inputs\n",
        "        epsilon = tf.random.normal(shape=tf.shape(z_mean))\n",
        "        return z_mean + tf.exp(0.5 * z_log_var) * epsilon\n",
        "\n",
        "# Encoder\n",
        "encoder_inputs = tf.keras.Input(shape=(input_dim,))\n",
        "x = layers.Dense(32, activation='relu')(encoder_inputs)\n",
        "z_mean = layers.Dense(latent_dim, name=\"z_mean\")(x)\n",
        "z_log_var = layers.Dense(latent_dim, name=\"z_log_var\")(x)\n",
        "z = Sampling()([z_mean, z_log_var])\n",
        "encoder = Model(encoder_inputs, [z_mean, z_log_var, z], name=\"encoder\")\n",
        "\n",
        "# Decoder\n",
        "latent_inputs = tf.keras.Input(shape=(latent_dim,))\n",
        "x = layers.Dense(32, activation='relu')(latent_inputs)\n",
        "decoder_outputs = layers.Dense(input_dim)(x)\n",
        "decoder = Model(latent_inputs, decoder_outputs, name=\"decoder\")\n",
        "\n",
        "class VAE(Model):\n",
        "    def __init__(self, encoder, decoder, **kwargs):\n",
        "        super().__init__(**kwargs)\n",
        "        self.encoder = encoder\n",
        "        self.decoder = decoder\n",
        "\n",
        "    def call(self, inputs):\n",
        "        z_mean, z_log_var, z = self.encoder(inputs)\n",
        "        return self.decoder(z)\n",
        "\n",
        "    def train_step(self, data):\n",
        "        if isinstance(data, tuple):\n",
        "            data = data[0]\n",
        "        with tf.GradientTape() as tape:\n",
        "            z_mean, z_log_var, z = self.encoder(data)\n",
        "            reconstruction = self.decoder(z)\n",
        "            reconstruction_loss = tf.reduce_mean(tf.square(data - reconstruction))\n",
        "            kl_loss = -0.5 * tf.reduce_mean(tf.reduce_sum(\n",
        "                1 + z_log_var - tf.square(z_mean) - tf.exp(z_log_var), axis=1))\n",
        "            total_loss = reconstruction_loss + kl_loss\n",
        "        grads = tape.gradient(total_loss, self.trainable_weights)\n",
        "        self.optimizer.apply_gradients(zip(grads, self.trainable_weights))\n",
        "        return {\n",
        "            \"loss\": total_loss,\n",
        "            \"reconstruction_loss\": reconstruction_loss,\n",
        "            \"kl_loss\": kl_loss\n",
        "        }\n",
        "\n",
        "\n",
        "vae = VAE(encoder, decoder)\n",
        "vae.compile(optimizer=tf.keras.optimizers.Adam(), loss=lambda y_true, y_pred: 0.0)"
      ]
    },
    {
      "cell_type": "code",
      "execution_count": 35,
      "metadata": {
        "colab": {
          "base_uri": "https://localhost:8080/"
        },
        "id": "0YSoA7X6BScy",
        "outputId": "44cf01cd-d846-4c84-a405-01c5f4372de7"
      },
      "outputs": [
        {
          "name": "stdout",
          "output_type": "stream",
          "text": [
            "Epoch 1/50\n",
            "\u001b[1m29/29\u001b[0m \u001b[32m━━━━━━━━━━━━━━━━━━━━\u001b[0m\u001b[37m\u001b[0m \u001b[1m91s\u001b[0m 11ms/step - kl_loss: 0.0266 - loss: 0.2345 - reconstruction_loss: 0.2079 - val_loss: 0.0000e+00\n",
            "Epoch 2/50\n",
            "\u001b[1m29/29\u001b[0m \u001b[32m━━━━━━━━━━━━━━━━━━━━\u001b[0m\u001b[37m\u001b[0m \u001b[1m0s\u001b[0m 4ms/step - kl_loss: 0.0080 - loss: 0.1869 - reconstruction_loss: 0.1789 - val_loss: 0.0000e+00\n",
            "Epoch 3/50\n",
            "\u001b[1m29/29\u001b[0m \u001b[32m━━━━━━━━━━━━━━━━━━━━\u001b[0m\u001b[37m\u001b[0m \u001b[1m0s\u001b[0m 6ms/step - kl_loss: 0.0044 - loss: 0.1755 - reconstruction_loss: 0.1711 - val_loss: 0.0000e+00\n",
            "Epoch 4/50\n",
            "\u001b[1m29/29\u001b[0m \u001b[32m━━━━━━━━━━━━━━━━━━━━\u001b[0m\u001b[37m\u001b[0m \u001b[1m0s\u001b[0m 4ms/step - kl_loss: 0.0033 - loss: 0.1696 - reconstruction_loss: 0.1663 - val_loss: 0.0000e+00\n",
            "Epoch 5/50\n",
            "\u001b[1m29/29\u001b[0m \u001b[32m━━━━━━━━━━━━━━━━━━━━\u001b[0m\u001b[37m\u001b[0m \u001b[1m0s\u001b[0m 5ms/step - kl_loss: 0.0026 - loss: 0.1672 - reconstruction_loss: 0.1646 - val_loss: 0.0000e+00\n",
            "Epoch 6/50\n",
            "\u001b[1m29/29\u001b[0m \u001b[32m━━━━━━━━━━━━━━━━━━━━\u001b[0m\u001b[37m\u001b[0m \u001b[1m0s\u001b[0m 6ms/step - kl_loss: 0.0021 - loss: 0.1641 - reconstruction_loss: 0.1620 - val_loss: 0.0000e+00\n",
            "Epoch 7/50\n",
            "\u001b[1m29/29\u001b[0m \u001b[32m━━━━━━━━━━━━━━━━━━━━\u001b[0m\u001b[37m\u001b[0m \u001b[1m0s\u001b[0m 4ms/step - kl_loss: 0.0017 - loss: 0.1632 - reconstruction_loss: 0.1615 - val_loss: 0.0000e+00\n",
            "Epoch 8/50\n",
            "\u001b[1m29/29\u001b[0m \u001b[32m━━━━━━━━━━━━━━━━━━━━\u001b[0m\u001b[37m\u001b[0m \u001b[1m0s\u001b[0m 4ms/step - kl_loss: 0.0014 - loss: 0.1612 - reconstruction_loss: 0.1599 - val_loss: 0.0000e+00\n",
            "Epoch 9/50\n",
            "\u001b[1m29/29\u001b[0m \u001b[32m━━━━━━━━━━━━━━━━━━━━\u001b[0m\u001b[37m\u001b[0m \u001b[1m0s\u001b[0m 4ms/step - kl_loss: 0.0011 - loss: 0.1619 - reconstruction_loss: 0.1608 - val_loss: 0.0000e+00\n",
            "Epoch 10/50\n",
            "\u001b[1m29/29\u001b[0m \u001b[32m━━━━━━━━━━━━━━━━━━━━\u001b[0m\u001b[37m\u001b[0m \u001b[1m0s\u001b[0m 4ms/step - kl_loss: 9.6141e-04 - loss: 0.1625 - reconstruction_loss: 0.1615 - val_loss: 0.0000e+00\n",
            "Epoch 11/50\n",
            "\u001b[1m29/29\u001b[0m \u001b[32m━━━━━━━━━━━━━━━━━━━━\u001b[0m\u001b[37m\u001b[0m \u001b[1m0s\u001b[0m 4ms/step - kl_loss: 8.4031e-04 - loss: 0.1608 - reconstruction_loss: 0.1600 - val_loss: 0.0000e+00\n",
            "Epoch 12/50\n",
            "\u001b[1m29/29\u001b[0m \u001b[32m━━━━━━━━━━━━━━━━━━━━\u001b[0m\u001b[37m\u001b[0m \u001b[1m0s\u001b[0m 5ms/step - kl_loss: 7.8016e-04 - loss: 0.1647 - reconstruction_loss: 0.1639 - val_loss: 0.0000e+00\n",
            "Epoch 13/50\n",
            "\u001b[1m29/29\u001b[0m \u001b[32m━━━━━━━━━━━━━━━━━━━━\u001b[0m\u001b[37m\u001b[0m \u001b[1m0s\u001b[0m 4ms/step - kl_loss: 6.0242e-04 - loss: 0.1614 - reconstruction_loss: 0.1608 - val_loss: 0.0000e+00\n",
            "Epoch 14/50\n",
            "\u001b[1m29/29\u001b[0m \u001b[32m━━━━━━━━━━━━━━━━━━━━\u001b[0m\u001b[37m\u001b[0m \u001b[1m0s\u001b[0m 4ms/step - kl_loss: 5.5390e-04 - loss: 0.1610 - reconstruction_loss: 0.1605 - val_loss: 0.0000e+00\n",
            "Epoch 15/50\n",
            "\u001b[1m29/29\u001b[0m \u001b[32m━━━━━━━━━━━━━━━━━━━━\u001b[0m\u001b[37m\u001b[0m \u001b[1m0s\u001b[0m 4ms/step - kl_loss: 5.0074e-04 - loss: 0.1621 - reconstruction_loss: 0.1616 - val_loss: 0.0000e+00\n",
            "Epoch 16/50\n",
            "\u001b[1m29/29\u001b[0m \u001b[32m━━━━━━━━━━━━━━━━━━━━\u001b[0m\u001b[37m\u001b[0m \u001b[1m0s\u001b[0m 4ms/step - kl_loss: 4.2232e-04 - loss: 0.1620 - reconstruction_loss: 0.1616 - val_loss: 0.0000e+00\n",
            "Epoch 17/50\n",
            "\u001b[1m29/29\u001b[0m \u001b[32m━━━━━━━━━━━━━━━━━━━━\u001b[0m\u001b[37m\u001b[0m \u001b[1m0s\u001b[0m 4ms/step - kl_loss: 4.3735e-04 - loss: 0.1620 - reconstruction_loss: 0.1616 - val_loss: 0.0000e+00\n",
            "Epoch 18/50\n",
            "\u001b[1m29/29\u001b[0m \u001b[32m━━━━━━━━━━━━━━━━━━━━\u001b[0m\u001b[37m\u001b[0m \u001b[1m0s\u001b[0m 4ms/step - kl_loss: 3.8695e-04 - loss: 0.1599 - reconstruction_loss: 0.1596 - val_loss: 0.0000e+00\n",
            "Epoch 19/50\n",
            "\u001b[1m29/29\u001b[0m \u001b[32m━━━━━━━━━━━━━━━━━━━━\u001b[0m\u001b[37m\u001b[0m \u001b[1m0s\u001b[0m 4ms/step - kl_loss: 3.6362e-04 - loss: 0.1606 - reconstruction_loss: 0.1602 - val_loss: 0.0000e+00\n",
            "Epoch 20/50\n",
            "\u001b[1m29/29\u001b[0m \u001b[32m━━━━━━━━━━━━━━━━━━━━\u001b[0m\u001b[37m\u001b[0m \u001b[1m0s\u001b[0m 4ms/step - kl_loss: 3.1777e-04 - loss: 0.1602 - reconstruction_loss: 0.1599 - val_loss: 0.0000e+00\n",
            "Epoch 21/50\n",
            "\u001b[1m29/29\u001b[0m \u001b[32m━━━━━━━━━━━━━━━━━━━━\u001b[0m\u001b[37m\u001b[0m \u001b[1m0s\u001b[0m 4ms/step - kl_loss: 2.8865e-04 - loss: 0.1605 - reconstruction_loss: 0.1602 - val_loss: 0.0000e+00\n",
            "Epoch 22/50\n",
            "\u001b[1m29/29\u001b[0m \u001b[32m━━━━━━━━━━━━━━━━━━━━\u001b[0m\u001b[37m\u001b[0m \u001b[1m0s\u001b[0m 6ms/step - kl_loss: 3.0350e-04 - loss: 0.1597 - reconstruction_loss: 0.1594 - val_loss: 0.0000e+00\n",
            "Epoch 23/50\n",
            "\u001b[1m29/29\u001b[0m \u001b[32m━━━━━━━━━━━━━━━━━━━━\u001b[0m\u001b[37m\u001b[0m \u001b[1m0s\u001b[0m 4ms/step - kl_loss: 3.2595e-04 - loss: 0.1609 - reconstruction_loss: 0.1606 - val_loss: 0.0000e+00\n",
            "Epoch 24/50\n",
            "\u001b[1m29/29\u001b[0m \u001b[32m━━━━━━━━━━━━━━━━━━━━\u001b[0m\u001b[37m\u001b[0m \u001b[1m0s\u001b[0m 4ms/step - kl_loss: 2.8208e-04 - loss: 0.1613 - reconstruction_loss: 0.1610 - val_loss: 0.0000e+00\n",
            "Epoch 25/50\n",
            "\u001b[1m29/29\u001b[0m \u001b[32m━━━━━━━━━━━━━━━━━━━━\u001b[0m\u001b[37m\u001b[0m \u001b[1m0s\u001b[0m 4ms/step - kl_loss: 2.4970e-04 - loss: 0.1605 - reconstruction_loss: 0.1603 - val_loss: 0.0000e+00\n",
            "Epoch 26/50\n",
            "\u001b[1m29/29\u001b[0m \u001b[32m━━━━━━━━━━━━━━━━━━━━\u001b[0m\u001b[37m\u001b[0m \u001b[1m0s\u001b[0m 4ms/step - kl_loss: 2.2450e-04 - loss: 0.1623 - reconstruction_loss: 0.1621 - val_loss: 0.0000e+00\n",
            "Epoch 27/50\n",
            "\u001b[1m29/29\u001b[0m \u001b[32m━━━━━━━━━━━━━━━━━━━━\u001b[0m\u001b[37m\u001b[0m \u001b[1m0s\u001b[0m 4ms/step - kl_loss: 2.2249e-04 - loss: 0.1615 - reconstruction_loss: 0.1613 - val_loss: 0.0000e+00\n",
            "Epoch 28/50\n",
            "\u001b[1m29/29\u001b[0m \u001b[32m━━━━━━━━━━━━━━━━━━━━\u001b[0m\u001b[37m\u001b[0m \u001b[1m0s\u001b[0m 4ms/step - kl_loss: 1.9709e-04 - loss: 0.1604 - reconstruction_loss: 0.1602 - val_loss: 0.0000e+00\n",
            "Epoch 29/50\n",
            "\u001b[1m29/29\u001b[0m \u001b[32m━━━━━━━━━━━━━━━━━━━━\u001b[0m\u001b[37m\u001b[0m \u001b[1m0s\u001b[0m 4ms/step - kl_loss: 1.9849e-04 - loss: 0.1611 - reconstruction_loss: 0.1609 - val_loss: 0.0000e+00\n",
            "Epoch 30/50\n",
            "\u001b[1m29/29\u001b[0m \u001b[32m━━━━━━━━━━━━━━━━━━━━\u001b[0m\u001b[37m\u001b[0m \u001b[1m0s\u001b[0m 4ms/step - kl_loss: 1.7454e-04 - loss: 0.1600 - reconstruction_loss: 0.1598 - val_loss: 0.0000e+00\n",
            "Epoch 31/50\n",
            "\u001b[1m29/29\u001b[0m \u001b[32m━━━━━━━━━━━━━━━━━━━━\u001b[0m\u001b[37m\u001b[0m \u001b[1m0s\u001b[0m 4ms/step - kl_loss: 1.6880e-04 - loss: 0.1601 - reconstruction_loss: 0.1600 - val_loss: 0.0000e+00\n",
            "Epoch 32/50\n",
            "\u001b[1m29/29\u001b[0m \u001b[32m━━━━━━━━━━━━━━━━━━━━\u001b[0m\u001b[37m\u001b[0m \u001b[1m0s\u001b[0m 4ms/step - kl_loss: 1.6779e-04 - loss: 0.1598 - reconstruction_loss: 0.1596 - val_loss: 0.0000e+00\n",
            "Epoch 33/50\n",
            "\u001b[1m29/29\u001b[0m \u001b[32m━━━━━━━━━━━━━━━━━━━━\u001b[0m\u001b[37m\u001b[0m \u001b[1m0s\u001b[0m 4ms/step - kl_loss: 1.3899e-04 - loss: 0.1588 - reconstruction_loss: 0.1586 - val_loss: 0.0000e+00\n",
            "Epoch 34/50\n",
            "\u001b[1m29/29\u001b[0m \u001b[32m━━━━━━━━━━━━━━━━━━━━\u001b[0m\u001b[37m\u001b[0m \u001b[1m0s\u001b[0m 4ms/step - kl_loss: 1.3357e-04 - loss: 0.1603 - reconstruction_loss: 0.1602 - val_loss: 0.0000e+00\n",
            "Epoch 35/50\n",
            "\u001b[1m29/29\u001b[0m \u001b[32m━━━━━━━━━━━━━━━━━━━━\u001b[0m\u001b[37m\u001b[0m \u001b[1m0s\u001b[0m 5ms/step - kl_loss: 1.5920e-04 - loss: 0.1602 - reconstruction_loss: 0.1600 - val_loss: 0.0000e+00\n",
            "Epoch 36/50\n",
            "\u001b[1m29/29\u001b[0m \u001b[32m━━━━━━━━━━━━━━━━━━━━\u001b[0m\u001b[37m\u001b[0m \u001b[1m0s\u001b[0m 4ms/step - kl_loss: 1.6674e-04 - loss: 0.1625 - reconstruction_loss: 0.1623 - val_loss: 0.0000e+00\n",
            "Epoch 37/50\n",
            "\u001b[1m29/29\u001b[0m \u001b[32m━━━━━━━━━━━━━━━━━━━━\u001b[0m\u001b[37m\u001b[0m \u001b[1m0s\u001b[0m 5ms/step - kl_loss: 2.0971e-04 - loss: 0.1616 - reconstruction_loss: 0.1614 - val_loss: 0.0000e+00\n",
            "Epoch 38/50\n",
            "\u001b[1m29/29\u001b[0m \u001b[32m━━━━━━━━━━━━━━━━━━━━\u001b[0m\u001b[37m\u001b[0m \u001b[1m0s\u001b[0m 4ms/step - kl_loss: 1.4762e-04 - loss: 0.1605 - reconstruction_loss: 0.1603 - val_loss: 0.0000e+00\n",
            "Epoch 39/50\n",
            "\u001b[1m29/29\u001b[0m \u001b[32m━━━━━━━━━━━━━━━━━━━━\u001b[0m\u001b[37m\u001b[0m \u001b[1m0s\u001b[0m 6ms/step - kl_loss: 1.3265e-04 - loss: 0.1612 - reconstruction_loss: 0.1611 - val_loss: 0.0000e+00\n",
            "Epoch 40/50\n",
            "\u001b[1m29/29\u001b[0m \u001b[32m━━━━━━━━━━━━━━━━━━━━\u001b[0m\u001b[37m\u001b[0m \u001b[1m0s\u001b[0m 4ms/step - kl_loss: 1.6644e-04 - loss: 0.1606 - reconstruction_loss: 0.1604 - val_loss: 0.0000e+00\n",
            "Epoch 41/50\n",
            "\u001b[1m29/29\u001b[0m \u001b[32m━━━━━━━━━━━━━━━━━━━━\u001b[0m\u001b[37m\u001b[0m \u001b[1m0s\u001b[0m 7ms/step - kl_loss: 1.6156e-04 - loss: 0.1597 - reconstruction_loss: 0.1596 - val_loss: 0.0000e+00\n",
            "Epoch 42/50\n",
            "\u001b[1m29/29\u001b[0m \u001b[32m━━━━━━━━━━━━━━━━━━━━\u001b[0m\u001b[37m\u001b[0m \u001b[1m0s\u001b[0m 6ms/step - kl_loss: 1.5822e-04 - loss: 0.1602 - reconstruction_loss: 0.1600 - val_loss: 0.0000e+00\n",
            "Epoch 43/50\n",
            "\u001b[1m29/29\u001b[0m \u001b[32m━━━━━━━━━━━━━━━━━━━━\u001b[0m\u001b[37m\u001b[0m \u001b[1m0s\u001b[0m 11ms/step - kl_loss: 1.3918e-04 - loss: 0.1617 - reconstruction_loss: 0.1616 - val_loss: 0.0000e+00\n",
            "Epoch 44/50\n",
            "\u001b[1m29/29\u001b[0m \u001b[32m━━━━━━━━━━━━━━━━━━━━\u001b[0m\u001b[37m\u001b[0m \u001b[1m1s\u001b[0m 10ms/step - kl_loss: 1.0172e-04 - loss: 0.1600 - reconstruction_loss: 0.1599 - val_loss: 0.0000e+00\n",
            "Epoch 45/50\n",
            "\u001b[1m29/29\u001b[0m \u001b[32m━━━━━━━━━━━━━━━━━━━━\u001b[0m\u001b[37m\u001b[0m \u001b[1m1s\u001b[0m 22ms/step - kl_loss: 1.1606e-04 - loss: 0.1605 - reconstruction_loss: 0.1604 - val_loss: 0.0000e+00\n",
            "Epoch 46/50\n",
            "\u001b[1m29/29\u001b[0m \u001b[32m━━━━━━━━━━━━━━━━━━━━\u001b[0m\u001b[37m\u001b[0m \u001b[1m1s\u001b[0m 5ms/step - kl_loss: 1.2154e-04 - loss: 0.1598 - reconstruction_loss: 0.1597 - val_loss: 0.0000e+00\n",
            "Epoch 47/50\n",
            "\u001b[1m29/29\u001b[0m \u001b[32m━━━━━━━━━━━━━━━━━━━━\u001b[0m\u001b[37m\u001b[0m \u001b[1m0s\u001b[0m 7ms/step - kl_loss: 1.1554e-04 - loss: 0.1604 - reconstruction_loss: 0.1603 - val_loss: 0.0000e+00\n",
            "Epoch 48/50\n",
            "\u001b[1m29/29\u001b[0m \u001b[32m━━━━━━━━━━━━━━━━━━━━\u001b[0m\u001b[37m\u001b[0m \u001b[1m0s\u001b[0m 7ms/step - kl_loss: 9.1965e-05 - loss: 0.1599 - reconstruction_loss: 0.1598 - val_loss: 0.0000e+00\n",
            "Epoch 49/50\n",
            "\u001b[1m29/29\u001b[0m \u001b[32m━━━━━━━━━━━━━━━━━━━━\u001b[0m\u001b[37m\u001b[0m \u001b[1m0s\u001b[0m 6ms/step - kl_loss: 1.4661e-04 - loss: 0.1604 - reconstruction_loss: 0.1602 - val_loss: 0.0000e+00\n",
            "Epoch 50/50\n",
            "\u001b[1m29/29\u001b[0m \u001b[32m━━━━━━━━━━━━━━━━━━━━\u001b[0m\u001b[37m\u001b[0m \u001b[1m0s\u001b[0m 6ms/step - kl_loss: 1.0869e-04 - loss: 0.1594 - reconstruction_loss: 0.1593 - val_loss: 0.0000e+00\n"
          ]
        },
        {
          "data": {
            "text/plain": [
              "<keras.src.callbacks.history.History at 0x7b02482d6150>"
            ]
          },
          "execution_count": 35,
          "metadata": {},
          "output_type": "execute_result"
        }
      ],
      "source": [
        "vae.fit(X_train, X_train, epochs=50, batch_size=32, validation_data=(X_val, X_val))\n"
      ]
    },
    {
      "cell_type": "code",
      "execution_count": 36,
      "metadata": {
        "colab": {
          "base_uri": "https://localhost:8080/"
        },
        "id": "zdPBdbMsMgXC",
        "outputId": "4502604c-7074-47fa-c009-c7e7c78270ca"
      },
      "outputs": [
        {
          "name": "stdout",
          "output_type": "stream",
          "text": [
            "\u001b[1m33/33\u001b[0m \u001b[32m━━━━━━━━━━━━━━━━━━━━\u001b[0m\u001b[37m\u001b[0m \u001b[1m0s\u001b[0m 4ms/step\n",
            "Anomaly threshold: 0.21324825\n",
            "              precision    recall  f1-score   support\n",
            "\n",
            "           0       1.00      0.96      0.98      1000\n",
            "           1       0.59      1.00      0.74        50\n",
            "\n",
            "    accuracy                           0.97      1050\n",
            "   macro avg       0.79      0.98      0.86      1050\n",
            "weighted avg       0.98      0.97      0.97      1050\n",
            "\n"
          ]
        }
      ],
      "source": [
        "# Reconstruct all data\n",
        "X_pred = vae.predict(X_scaled)\n",
        "reconstruction_error = tf.keras.losses.mse(X_scaled, X_pred).numpy()\n",
        "\n",
        "# Set a threshold for anomaly detection\n",
        "threshold = reconstruction_error[y_true == 0].mean() + 2 * reconstruction_error[y_true == 0].std()\n",
        "print(\"Anomaly threshold:\", threshold)\n",
        "\n",
        "# Predict anomalies\n",
        "y_pred = [1 if err > threshold else 0 for err in reconstruction_error]\n",
        "\n",
        "# Accuracy\n",
        "from sklearn.metrics import classification_report\n",
        "print(classification_report(y_true, y_pred))\n"
      ]
    },
    {
      "cell_type": "code",
      "execution_count": 37,
      "metadata": {
        "colab": {
          "base_uri": "https://localhost:8080/",
          "height": 487
        },
        "id": "SBCnItNpVMkl",
        "outputId": "0fc87a3b-6e69-4ba0-fb24-2a9ed1005a01"
      },
      "outputs": [
        {
          "data": {
            "image/png": "[encoded data removed]",
            "text/plain": [
              "<Figure size 1000x500 with 1 Axes>"
            ]
          },
          "metadata": {},
          "output_type": "display_data"
        }
      ],
      "source": [
        "import matplotlib.pyplot as plt\n",
        "\n",
        "plt.figure(figsize=(10, 5))\n",
        "plt.hist(reconstruction_error, bins=50, alpha=0.7)\n",
        "plt.axvline(threshold, color='red', linestyle='--', label='Threshold')\n",
        "plt.title(\"Reconstruction Error Histogram\")\n",
        "plt.xlabel(\"Reconstruction Error\")\n",
        "plt.ylabel(\"Count\")\n",
        "plt.legend()\n",
        "plt.grid(True)\n",
        "plt.show()\n"
      ]
    },
    {
      "cell_type": "markdown",
      "metadata": {
        "id": "KoKnBfaWMjhz"
      },
      "source": []
    }
  ],
  "metadata": {
    "colab": {
      "provenance": []
    },
    "kernelspec": {
      "display_name": "Python 3",
      "name": "python3"
    },
    "language_info": {
      "name": "python"
    }
  },
  "nbformat": 4,
  "nbformat_minor": 0
}
