{
  "cells": [
    {
      "cell_type": "markdown",
      "metadata": {},
      "source": [
        "### 1. Install Required Libraries\n"
      ]
    },
    {
      "cell_type": "code",
      "execution_count": null,
      "metadata": {},
      "outputs": [],
      "source": [
        "import pandas as pd\n",
        "from sklearn.preprocessing import StandardScaler\n",
        "from sklearn.model_selection import train_test_split\n",
        "import tensorflow as tf\n",
        "from tensorflow.keras import layers, Model\n",
        "from sklearn.metrics import classification_report\n",
        "import matplotlib.pyplot as plt"
      ]
    },
    {
      "cell_type": "markdown",
      "metadata": {},
      "source": [
        " ### 2. Load the Data"
      ]
    },
    {
      "cell_type": "code",
      "execution_count": null,
      "metadata": {},
      "outputs": [],
      "source": [
        "df = pd.read_csv('D:\\\\Vcodez\\\\Anomaly detection in IOT sensors using VAE\\\\Datasets\\\\iot_sensor_data_with_anomalies.csv')"
      ]
    },
    {
      "cell_type": "markdown",
      "metadata": {},
      "source": [
        "### 3. EDA"
      ]
    },
    {
      "cell_type": "code",
      "execution_count": 8,
      "metadata": {},
      "outputs": [
        {
          "data": {
            "text/html": [
              "<div>\n",
              "<style scoped>\n",
              "    .dataframe tbody tr th:only-of-type {\n",
              "        vertical-align: middle;\n",
              "    }\n",
              "\n",
              "    .dataframe tbody tr th {\n",
              "        vertical-align: top;\n",
              "    }\n",
              "\n",
              "    .dataframe thead th {\n",
              "        text-align: right;\n",
              "    }\n",
              "</style>\n",
              "<table border=\"1\" class=\"dataframe\">\n",
              "  <thead>\n",
              "    <tr style=\"text-align: right;\">\n",
              "      <th></th>\n",
              "      <th>Temperature</th>\n",
              "      <th>Humidity</th>\n",
              "      <th>Light</th>\n",
              "      <th>CO2</th>\n",
              "      <th>Noise</th>\n",
              "      <th>Motion</th>\n",
              "      <th>Pressure</th>\n",
              "      <th>Vibration</th>\n",
              "      <th>Label</th>\n",
              "    </tr>\n",
              "  </thead>\n",
              "  <tbody>\n",
              "    <tr>\n",
              "      <th>0</th>\n",
              "      <td>22.943930</td>\n",
              "      <td>37.972544</td>\n",
              "      <td>320.770136</td>\n",
              "      <td>369.176710</td>\n",
              "      <td>34.623648</td>\n",
              "      <td>0</td>\n",
              "      <td>1017.801180</td>\n",
              "      <td>0.001908</td>\n",
              "      <td>0</td>\n",
              "    </tr>\n",
              "    <tr>\n",
              "      <th>1</th>\n",
              "      <td>25.528221</td>\n",
              "      <td>41.582345</td>\n",
              "      <td>242.702123</td>\n",
              "      <td>396.740041</td>\n",
              "      <td>38.784371</td>\n",
              "      <td>1</td>\n",
              "      <td>997.857035</td>\n",
              "      <td>0.002242</td>\n",
              "      <td>0</td>\n",
              "    </tr>\n",
              "    <tr>\n",
              "      <th>2</th>\n",
              "      <td>23.273449</td>\n",
              "      <td>42.298026</td>\n",
              "      <td>305.897605</td>\n",
              "      <td>367.514093</td>\n",
              "      <td>34.860739</td>\n",
              "      <td>1</td>\n",
              "      <td>1011.023377</td>\n",
              "      <td>0.002110</td>\n",
              "      <td>0</td>\n",
              "    </tr>\n",
              "    <tr>\n",
              "      <th>3</th>\n",
              "      <td>23.632640</td>\n",
              "      <td>40.546611</td>\n",
              "      <td>288.156662</td>\n",
              "      <td>384.868835</td>\n",
              "      <td>35.308937</td>\n",
              "      <td>1</td>\n",
              "      <td>1011.514510</td>\n",
              "      <td>0.001709</td>\n",
              "      <td>0</td>\n",
              "    </tr>\n",
              "    <tr>\n",
              "      <th>4</th>\n",
              "      <td>25.953549</td>\n",
              "      <td>38.199329</td>\n",
              "      <td>345.119789</td>\n",
              "      <td>435.488550</td>\n",
              "      <td>34.974689</td>\n",
              "      <td>1</td>\n",
              "      <td>1008.095827</td>\n",
              "      <td>0.001483</td>\n",
              "      <td>0</td>\n",
              "    </tr>\n",
              "  </tbody>\n",
              "</table>\n",
              "</div>"
            ],
            "text/plain": [
              "   Temperature   Humidity       Light         CO2      Noise  Motion  \\\n",
              "0    22.943930  37.972544  320.770136  369.176710  34.623648       0   \n",
              "1    25.528221  41.582345  242.702123  396.740041  38.784371       1   \n",
              "2    23.273449  42.298026  305.897605  367.514093  34.860739       1   \n",
              "3    23.632640  40.546611  288.156662  384.868835  35.308937       1   \n",
              "4    25.953549  38.199329  345.119789  435.488550  34.974689       1   \n",
              "\n",
              "      Pressure  Vibration  Label  \n",
              "0  1017.801180   0.001908      0  \n",
              "1   997.857035   0.002242      0  \n",
              "2  1011.023377   0.002110      0  \n",
              "3  1011.514510   0.001709      0  \n",
              "4  1008.095827   0.001483      0  "
            ]
          },
          "execution_count": 8,
          "metadata": {},
          "output_type": "execute_result"
        }
      ],
      "source": [
        "df.head()"
      ]
    },
    {
      "cell_type": "code",
      "execution_count": 15,
      "metadata": {},
      "outputs": [
        {
          "data": {
            "text/plain": [
              "(1050, 9)"
            ]
          },
          "execution_count": 15,
          "metadata": {},
          "output_type": "execute_result"
        }
      ],
      "source": [
        "df.shape"
      ]
    },
    {
      "cell_type": "code",
      "execution_count": 10,
      "metadata": {},
      "outputs": [
        {
          "data": {
            "text/plain": [
              "Temperature    0\n",
              "Humidity       0\n",
              "Light          0\n",
              "CO2            0\n",
              "Noise          0\n",
              "Motion         0\n",
              "Pressure       0\n",
              "Vibration      0\n",
              "Label          0\n",
              "dtype: int64"
            ]
          },
          "execution_count": 10,
          "metadata": {},
          "output_type": "execute_result"
        }
      ],
      "source": [
        "null_values = df.isnull().sum()\n",
        "null_values"
      ]
    },
    {
      "cell_type": "code",
      "execution_count": 17,
      "metadata": {},
      "outputs": [
        {
          "name": "stdout",
          "output_type": "stream",
          "text": [
            "Label\n",
            "0    1000\n",
            "1      50\n",
            "Name: count, dtype: int64\n"
          ]
        }
      ],
      "source": [
        "print(df['Label'].value_counts())"
      ]
    },
    {
      "cell_type": "code",
      "execution_count": 12,
      "metadata": {},
      "outputs": [
        {
          "data": {
            "text/html": [
              "<div>\n",
              "<style scoped>\n",
              "    .dataframe tbody tr th:only-of-type {\n",
              "        vertical-align: middle;\n",
              "    }\n",
              "\n",
              "    .dataframe tbody tr th {\n",
              "        vertical-align: top;\n",
              "    }\n",
              "\n",
              "    .dataframe thead th {\n",
              "        text-align: right;\n",
              "    }\n",
              "</style>\n",
              "<table border=\"1\" class=\"dataframe\">\n",
              "  <thead>\n",
              "    <tr style=\"text-align: right;\">\n",
              "      <th></th>\n",
              "      <th>Temperature</th>\n",
              "      <th>Humidity</th>\n",
              "      <th>Light</th>\n",
              "      <th>CO2</th>\n",
              "      <th>Noise</th>\n",
              "      <th>Motion</th>\n",
              "      <th>Pressure</th>\n",
              "      <th>Vibration</th>\n",
              "      <th>Label</th>\n",
              "    </tr>\n",
              "  </thead>\n",
              "  <tbody>\n",
              "    <tr>\n",
              "      <th>count</th>\n",
              "      <td>1050.000000</td>\n",
              "      <td>1050.000000</td>\n",
              "      <td>1050.000000</td>\n",
              "      <td>1050.000000</td>\n",
              "      <td>1050.000000</td>\n",
              "      <td>1050.000000</td>\n",
              "      <td>1050.000000</td>\n",
              "      <td>1050.000000</td>\n",
              "      <td>1050.000000</td>\n",
              "    </tr>\n",
              "    <tr>\n",
              "      <th>mean</th>\n",
              "      <td>25.236194</td>\n",
              "      <td>41.903716</td>\n",
              "      <td>315.007043</td>\n",
              "      <td>424.702465</td>\n",
              "      <td>37.182845</td>\n",
              "      <td>0.529524</td>\n",
              "      <td>1006.716982</td>\n",
              "      <td>0.003342</td>\n",
              "      <td>0.047619</td>\n",
              "    </tr>\n",
              "    <tr>\n",
              "      <th>std</th>\n",
              "      <td>5.639764</td>\n",
              "      <td>8.841232</td>\n",
              "      <td>67.955090</td>\n",
              "      <td>106.987881</td>\n",
              "      <td>9.812009</td>\n",
              "      <td>0.499365</td>\n",
              "      <td>24.183860</td>\n",
              "      <td>0.006177</td>\n",
              "      <td>0.213060</td>\n",
              "    </tr>\n",
              "    <tr>\n",
              "      <th>min</th>\n",
              "      <td>20.571140</td>\n",
              "      <td>34.206426</td>\n",
              "      <td>233.917917</td>\n",
              "      <td>343.550722</td>\n",
              "      <td>28.630888</td>\n",
              "      <td>0.000000</td>\n",
              "      <td>878.344757</td>\n",
              "      <td>0.000058</td>\n",
              "      <td>0.000000</td>\n",
              "    </tr>\n",
              "    <tr>\n",
              "      <th>25%</th>\n",
              "      <td>23.357697</td>\n",
              "      <td>38.782736</td>\n",
              "      <td>288.477286</td>\n",
              "      <td>391.445424</td>\n",
              "      <td>33.765481</td>\n",
              "      <td>0.000000</td>\n",
              "      <td>1008.014660</td>\n",
              "      <td>0.001672</td>\n",
              "      <td>0.000000</td>\n",
              "    </tr>\n",
              "    <tr>\n",
              "      <th>50%</th>\n",
              "      <td>24.048917</td>\n",
              "      <td>40.153963</td>\n",
              "      <td>301.446237</td>\n",
              "      <td>402.770237</td>\n",
              "      <td>35.225889</td>\n",
              "      <td>1.000000</td>\n",
              "      <td>1011.741534</td>\n",
              "      <td>0.002022</td>\n",
              "      <td>0.000000</td>\n",
              "    </tr>\n",
              "    <tr>\n",
              "      <th>75%</th>\n",
              "      <td>24.822660</td>\n",
              "      <td>41.557948</td>\n",
              "      <td>315.750146</td>\n",
              "      <td>412.934713</td>\n",
              "      <td>36.594686</td>\n",
              "      <td>1.000000</td>\n",
              "      <td>1015.336874</td>\n",
              "      <td>0.002384</td>\n",
              "      <td>0.000000</td>\n",
              "    </tr>\n",
              "    <tr>\n",
              "      <th>max</th>\n",
              "      <td>55.384552</td>\n",
              "      <td>92.517081</td>\n",
              "      <td>699.029370</td>\n",
              "      <td>935.708366</td>\n",
              "      <td>89.725833</td>\n",
              "      <td>1.000000</td>\n",
              "      <td>1027.718203</td>\n",
              "      <td>0.042645</td>\n",
              "      <td>1.000000</td>\n",
              "    </tr>\n",
              "  </tbody>\n",
              "</table>\n",
              "</div>"
            ],
            "text/plain": [
              "       Temperature     Humidity        Light          CO2        Noise  \\\n",
              "count  1050.000000  1050.000000  1050.000000  1050.000000  1050.000000   \n",
              "mean     25.236194    41.903716   315.007043   424.702465    37.182845   \n",
              "std       5.639764     8.841232    67.955090   106.987881     9.812009   \n",
              "min      20.571140    34.206426   233.917917   343.550722    28.630888   \n",
              "25%      23.357697    38.782736   288.477286   391.445424    33.765481   \n",
              "50%      24.048917    40.153963   301.446237   402.770237    35.225889   \n",
              "75%      24.822660    41.557948   315.750146   412.934713    36.594686   \n",
              "max      55.384552    92.517081   699.029370   935.708366    89.725833   \n",
              "\n",
              "            Motion     Pressure    Vibration        Label  \n",
              "count  1050.000000  1050.000000  1050.000000  1050.000000  \n",
              "mean      0.529524  1006.716982     0.003342     0.047619  \n",
              "std       0.499365    24.183860     0.006177     0.213060  \n",
              "min       0.000000   878.344757     0.000058     0.000000  \n",
              "25%       0.000000  1008.014660     0.001672     0.000000  \n",
              "50%       1.000000  1011.741534     0.002022     0.000000  \n",
              "75%       1.000000  1015.336874     0.002384     0.000000  \n",
              "max       1.000000  1027.718203     0.042645     1.000000  "
            ]
          },
          "execution_count": 12,
          "metadata": {},
          "output_type": "execute_result"
        }
      ],
      "source": [
        "df.describe()"
      ]
    },
    {
      "cell_type": "markdown",
      "metadata": {},
      "source": [
        "### 4. Preprocessing"
      ]
    },
    {
      "cell_type": "code",
      "execution_count": null,
      "metadata": {
        "id": "AL5ixBsLBQSr"
      },
      "outputs": [],
      "source": [
        "# Drop timestamp and label for training\n",
        "X = df.drop(columns=[\"Label\"])\n",
        "y = df[\"Label\"]  # Save the true labels\n",
        "\n",
        "# Scale the features\n",
        "scaler = StandardScaler()\n",
        "X_scaled = scaler.fit_transform(X)\n",
        "\n",
        "# Use only normal data (Label = 0) to train the VAE\n",
        "X_normal = X_scaled[y == 0]\n",
        "\n",
        "# Split into training and validation sets\n",
        "X_train, X_val = train_test_split(X_normal, test_size=0.1, random_state=42)\n"
      ]
    },
    {
      "cell_type": "markdown",
      "metadata": {},
      "source": [
        "### 5. Build the VAE Model"
      ]
    },
    {
      "cell_type": "code",
      "execution_count": 3,
      "metadata": {
        "id": "-irTXgqLBSOX"
      },
      "outputs": [
        {
          "name": "stdout",
          "output_type": "stream",
          "text": [
            "WARNING:tensorflow:From c:\\Users\\ADMIN\\anaconda3\\Lib\\site-packages\\keras\\src\\backend\\tensorflow\\core.py:219: The name tf.placeholder is deprecated. Please use tf.compat.v1.placeholder instead.\n",
            "\n"
          ]
        }
      ],
      "source": [
        "\n",
        "input_dim = X_train.shape[1]\n",
        "latent_dim = 2\n",
        "\n",
        "# Sampling Layer\n",
        "class Sampling(layers.Layer):\n",
        "    def call(self, inputs):\n",
        "        z_mean, z_log_var = inputs\n",
        "        epsilon = tf.random.normal(shape=tf.shape(z_mean))\n",
        "        return z_mean + tf.exp(0.5 * z_log_var) * epsilon\n",
        "\n",
        "# Encoder\n",
        "encoder_inputs = tf.keras.Input(shape=(input_dim,))\n",
        "x = layers.Dense(32, activation='relu')(encoder_inputs)\n",
        "z_mean = layers.Dense(latent_dim, name=\"z_mean\")(x)\n",
        "z_log_var = layers.Dense(latent_dim, name=\"z_log_var\")(x)\n",
        "z = Sampling()([z_mean, z_log_var])\n",
        "encoder = Model(encoder_inputs, [z_mean, z_log_var, z], name=\"encoder\")\n",
        "\n",
        "# Decoder\n",
        "latent_inputs = tf.keras.Input(shape=(latent_dim,))\n",
        "x = layers.Dense(32, activation='relu')(latent_inputs)\n",
        "decoder_outputs = layers.Dense(input_dim)(x)\n",
        "decoder = Model(latent_inputs, decoder_outputs, name=\"decoder\")\n",
        "\n",
        "class VAE(Model):\n",
        "    def __init__(self, encoder, decoder, **kwargs):\n",
        "        super().__init__(**kwargs)\n",
        "        self.encoder = encoder\n",
        "        self.decoder = decoder\n",
        "\n",
        "    def call(self, inputs):\n",
        "        z_mean, z_log_var, z = self.encoder(inputs)\n",
        "        return self.decoder(z)\n",
        "\n",
        "    def train_step(self, data):\n",
        "        if isinstance(data, tuple):\n",
        "            data = data[0]\n",
        "        with tf.GradientTape() as tape:\n",
        "            z_mean, z_log_var, z = self.encoder(data)\n",
        "            reconstruction = self.decoder(z)\n",
        "            reconstruction_loss = tf.reduce_mean(tf.square(data - reconstruction))\n",
        "            kl_loss = -0.5 * tf.reduce_mean(tf.reduce_sum(\n",
        "                1 + z_log_var - tf.square(z_mean) - tf.exp(z_log_var), axis=1))\n",
        "            total_loss = reconstruction_loss + kl_loss\n",
        "        grads = tape.gradient(total_loss, self.trainable_weights)\n",
        "        self.optimizer.apply_gradients(zip(grads, self.trainable_weights))\n",
        "        return {\n",
        "            \"loss\": total_loss,\n",
        "            \"reconstruction_loss\": reconstruction_loss,\n",
        "            \"kl_loss\": kl_loss\n",
        "        }\n",
        "\n",
        "\n",
        "vae = VAE(encoder, decoder)\n",
        "vae.compile(optimizer=tf.keras.optimizers.Adam(), loss=lambda y_true, y_pred: 0.0)"
      ]
    },
    {
      "cell_type": "markdown",
      "metadata": {},
      "source": [
        "### 6. Train the Model"
      ]
    },
    {
      "cell_type": "code",
      "execution_count": null,
      "metadata": {
        "colab": {
          "base_uri": "https://localhost:8080/"
        },
        "id": "0YSoA7X6BScy",
        "outputId": "44cf01cd-d846-4c84-a405-01c5f4372de7"
      },
      "outputs": [
        {
          "name": "stdout",
          "output_type": "stream",
          "text": [
            "Epoch 1/50\n",
            "\u001b[1m29/29\u001b[0m \u001b[32m━━━━━━━━━━━━━━━━━━━━\u001b[0m\u001b[37m\u001b[0m \u001b[1m4s\u001b[0m 38ms/step - kl_loss: 0.0831 - loss: 0.3121 - reconstruction_loss: 0.2290 - val_loss: 0.0000e+00\n",
            "Epoch 2/50\n",
            "\u001b[1m29/29\u001b[0m \u001b[32m━━━━━━━━━━━━━━━━━━━━\u001b[0m\u001b[37m\u001b[0m \u001b[1m0s\u001b[0m 8ms/step - kl_loss: 0.0204 - loss: 0.2088 - reconstruction_loss: 0.1884 - val_loss: 0.0000e+00\n",
            "Epoch 3/50\n",
            "\u001b[1m29/29\u001b[0m \u001b[32m━━━━━━━━━━━━━━━━━━━━\u001b[0m\u001b[37m\u001b[0m \u001b[1m0s\u001b[0m 7ms/step - kl_loss: 0.0104 - loss: 0.1848 - reconstruction_loss: 0.1744 - val_loss: 0.0000e+00\n",
            "Epoch 4/50\n",
            "\u001b[1m29/29\u001b[0m \u001b[32m━━━━━━━━━━━━━━━━━━━━\u001b[0m\u001b[37m\u001b[0m \u001b[1m0s\u001b[0m 8ms/step - kl_loss: 0.0079 - loss: 0.1781 - reconstruction_loss: 0.1702 - val_loss: 0.0000e+00\n",
            "Epoch 5/50\n",
            "\u001b[1m29/29\u001b[0m \u001b[32m━━━━━━━━━━━━━━━━━━━━\u001b[0m\u001b[37m\u001b[0m \u001b[1m0s\u001b[0m 8ms/step - kl_loss: 0.0060 - loss: 0.1728 - reconstruction_loss: 0.1668 - val_loss: 0.0000e+00\n",
            "Epoch 6/50\n",
            "\u001b[1m29/29\u001b[0m \u001b[32m━━━━━━━━━━━━━━━━━━━━\u001b[0m\u001b[37m\u001b[0m \u001b[1m0s\u001b[0m 15ms/step - kl_loss: 0.0046 - loss: 0.1694 - reconstruction_loss: 0.1648 - val_loss: 0.0000e+00\n",
            "Epoch 7/50\n",
            "\u001b[1m29/29\u001b[0m \u001b[32m━━━━━━━━━━━━━━━━━━━━\u001b[0m\u001b[37m\u001b[0m \u001b[1m0s\u001b[0m 7ms/step - kl_loss: 0.0036 - loss: 0.1688 - reconstruction_loss: 0.1652 - val_loss: 0.0000e+00\n",
            "Epoch 8/50\n",
            "\u001b[1m29/29\u001b[0m \u001b[32m━━━━━━━━━━━━━━━━━━━━\u001b[0m\u001b[37m\u001b[0m \u001b[1m0s\u001b[0m 8ms/step - kl_loss: 0.0029 - loss: 0.1651 - reconstruction_loss: 0.1622 - val_loss: 0.0000e+00\n",
            "Epoch 9/50\n",
            "\u001b[1m29/29\u001b[0m \u001b[32m━━━━━━━━━━━━━━━━━━━━\u001b[0m\u001b[37m\u001b[0m \u001b[1m0s\u001b[0m 7ms/step - kl_loss: 0.0022 - loss: 0.1644 - reconstruction_loss: 0.1622 - val_loss: 0.0000e+00\n",
            "Epoch 10/50\n",
            "\u001b[1m29/29\u001b[0m \u001b[32m━━━━━━━━━━━━━━━━━━━━\u001b[0m\u001b[37m\u001b[0m \u001b[1m0s\u001b[0m 9ms/step - kl_loss: 0.0019 - loss: 0.1652 - reconstruction_loss: 0.1633 - val_loss: 0.0000e+00\n",
            "Epoch 11/50\n",
            "\u001b[1m29/29\u001b[0m \u001b[32m━━━━━━━━━━━━━━━━━━━━\u001b[0m\u001b[37m\u001b[0m \u001b[1m0s\u001b[0m 8ms/step - kl_loss: 0.0017 - loss: 0.1625 - reconstruction_loss: 0.1609 - val_loss: 0.0000e+00\n",
            "Epoch 12/50\n",
            "\u001b[1m29/29\u001b[0m \u001b[32m━━━━━━━━━━━━━━━━━━━━\u001b[0m\u001b[37m\u001b[0m \u001b[1m0s\u001b[0m 7ms/step - kl_loss: 0.0014 - loss: 0.1629 - reconstruction_loss: 0.1614 - val_loss: 0.0000e+00\n",
            "Epoch 13/50\n",
            "\u001b[1m29/29\u001b[0m \u001b[32m━━━━━━━━━━━━━━━━━━━━\u001b[0m\u001b[37m\u001b[0m \u001b[1m0s\u001b[0m 8ms/step - kl_loss: 0.0013 - loss: 0.1612 - reconstruction_loss: 0.1599 - val_loss: 0.0000e+00\n",
            "Epoch 14/50\n",
            "\u001b[1m29/29\u001b[0m \u001b[32m━━━━━━━━━━━━━━━━━━━━\u001b[0m\u001b[37m\u001b[0m \u001b[1m0s\u001b[0m 9ms/step - kl_loss: 0.0012 - loss: 0.1616 - reconstruction_loss: 0.1604 - val_loss: 0.0000e+00\n",
            "Epoch 15/50\n",
            "\u001b[1m29/29\u001b[0m \u001b[32m━━━━━━━━━━━━━━━━━━━━\u001b[0m\u001b[37m\u001b[0m \u001b[1m0s\u001b[0m 7ms/step - kl_loss: 0.0011 - loss: 0.1627 - reconstruction_loss: 0.1616 - val_loss: 0.0000e+00\n",
            "Epoch 16/50\n",
            "\u001b[1m29/29\u001b[0m \u001b[32m━━━━━━━━━━━━━━━━━━━━\u001b[0m\u001b[37m\u001b[0m \u001b[1m0s\u001b[0m 9ms/step - kl_loss: 9.1627e-04 - loss: 0.1595 - reconstruction_loss: 0.1586 - val_loss: 0.0000e+00\n",
            "Epoch 17/50\n",
            "\u001b[1m29/29\u001b[0m \u001b[32m━━━━━━━━━━━━━━━━━━━━\u001b[0m\u001b[37m\u001b[0m \u001b[1m1s\u001b[0m 12ms/step - kl_loss: 8.7890e-04 - loss: 0.1615 - reconstruction_loss: 0.1606 - val_loss: 0.0000e+00\n",
            "Epoch 18/50\n",
            "\u001b[1m29/29\u001b[0m \u001b[32m━━━━━━━━━━━━━━━━━━━━\u001b[0m\u001b[37m\u001b[0m \u001b[1m0s\u001b[0m 7ms/step - kl_loss: 8.0650e-04 - loss: 0.1606 - reconstruction_loss: 0.1598 - val_loss: 0.0000e+00\n",
            "Epoch 19/50\n",
            "\u001b[1m29/29\u001b[0m \u001b[32m━━━━━━━━━━━━━━━━━━━━\u001b[0m\u001b[37m\u001b[0m \u001b[1m0s\u001b[0m 7ms/step - kl_loss: 7.5651e-04 - loss: 0.1606 - reconstruction_loss: 0.1598 - val_loss: 0.0000e+00\n",
            "Epoch 20/50\n",
            "\u001b[1m29/29\u001b[0m \u001b[32m━━━━━━━━━━━━━━━━━━━━\u001b[0m\u001b[37m\u001b[0m \u001b[1m0s\u001b[0m 7ms/step - kl_loss: 6.9801e-04 - loss: 0.1618 - reconstruction_loss: 0.1611 - val_loss: 0.0000e+00\n",
            "Epoch 21/50\n",
            "\u001b[1m29/29\u001b[0m \u001b[32m━━━━━━━━━━━━━━━━━━━━\u001b[0m\u001b[37m\u001b[0m \u001b[1m0s\u001b[0m 7ms/step - kl_loss: 6.2764e-04 - loss: 0.1595 - reconstruction_loss: 0.1589 - val_loss: 0.0000e+00\n",
            "Epoch 22/50\n",
            "\u001b[1m29/29\u001b[0m \u001b[32m━━━━━━━━━━━━━━━━━━━━\u001b[0m\u001b[37m\u001b[0m \u001b[1m0s\u001b[0m 7ms/step - kl_loss: 6.5069e-04 - loss: 0.1610 - reconstruction_loss: 0.1603 - val_loss: 0.0000e+00\n",
            "Epoch 23/50\n",
            "\u001b[1m29/29\u001b[0m \u001b[32m━━━━━━━━━━━━━━━━━━━━\u001b[0m\u001b[37m\u001b[0m \u001b[1m0s\u001b[0m 8ms/step - kl_loss: 5.2667e-04 - loss: 0.1595 - reconstruction_loss: 0.1590 - val_loss: 0.0000e+00\n",
            "Epoch 24/50\n",
            "\u001b[1m29/29\u001b[0m \u001b[32m━━━━━━━━━━━━━━━━━━━━\u001b[0m\u001b[37m\u001b[0m \u001b[1m0s\u001b[0m 7ms/step - kl_loss: 5.4398e-04 - loss: 0.1591 - reconstruction_loss: 0.1586 - val_loss: 0.0000e+00\n",
            "Epoch 25/50\n",
            "\u001b[1m29/29\u001b[0m \u001b[32m━━━━━━━━━━━━━━━━━━━━\u001b[0m\u001b[37m\u001b[0m \u001b[1m0s\u001b[0m 7ms/step - kl_loss: 5.6386e-04 - loss: 0.1598 - reconstruction_loss: 0.1593 - val_loss: 0.0000e+00\n",
            "Epoch 26/50\n",
            "\u001b[1m29/29\u001b[0m \u001b[32m━━━━━━━━━━━━━━━━━━━━\u001b[0m\u001b[37m\u001b[0m \u001b[1m0s\u001b[0m 7ms/step - kl_loss: 5.7879e-04 - loss: 0.1587 - reconstruction_loss: 0.1582 - val_loss: 0.0000e+00\n",
            "Epoch 27/50\n",
            "\u001b[1m29/29\u001b[0m \u001b[32m━━━━━━━━━━━━━━━━━━━━\u001b[0m\u001b[37m\u001b[0m \u001b[1m0s\u001b[0m 8ms/step - kl_loss: 5.3208e-04 - loss: 0.1608 - reconstruction_loss: 0.1603 - val_loss: 0.0000e+00\n",
            "Epoch 28/50\n",
            "\u001b[1m29/29\u001b[0m \u001b[32m━━━━━━━━━━━━━━━━━━━━\u001b[0m\u001b[37m\u001b[0m \u001b[1m0s\u001b[0m 8ms/step - kl_loss: 4.4024e-04 - loss: 0.1601 - reconstruction_loss: 0.1597 - val_loss: 0.0000e+00\n",
            "Epoch 29/50\n",
            "\u001b[1m29/29\u001b[0m \u001b[32m━━━━━━━━━━━━━━━━━━━━\u001b[0m\u001b[37m\u001b[0m \u001b[1m0s\u001b[0m 8ms/step - kl_loss: 3.7435e-04 - loss: 0.1609 - reconstruction_loss: 0.1605 - val_loss: 0.0000e+00\n",
            "Epoch 30/50\n",
            "\u001b[1m29/29\u001b[0m \u001b[32m━━━━━━━━━━━━━━━━━━━━\u001b[0m\u001b[37m\u001b[0m \u001b[1m0s\u001b[0m 7ms/step - kl_loss: 3.4548e-04 - loss: 0.1589 - reconstruction_loss: 0.1586 - val_loss: 0.0000e+00\n",
            "Epoch 31/50\n",
            "\u001b[1m29/29\u001b[0m \u001b[32m━━━━━━━━━━━━━━━━━━━━\u001b[0m\u001b[37m\u001b[0m \u001b[1m0s\u001b[0m 7ms/step - kl_loss: 3.9566e-04 - loss: 0.1603 - reconstruction_loss: 0.1599 - val_loss: 0.0000e+00\n",
            "Epoch 32/50\n",
            "\u001b[1m29/29\u001b[0m \u001b[32m━━━━━━━━━━━━━━━━━━━━\u001b[0m\u001b[37m\u001b[0m \u001b[1m0s\u001b[0m 7ms/step - kl_loss: 4.0656e-04 - loss: 0.1613 - reconstruction_loss: 0.1609 - val_loss: 0.0000e+00\n",
            "Epoch 33/50\n",
            "\u001b[1m29/29\u001b[0m \u001b[32m━━━━━━━━━━━━━━━━━━━━\u001b[0m\u001b[37m\u001b[0m \u001b[1m0s\u001b[0m 7ms/step - kl_loss: 3.0847e-04 - loss: 0.1598 - reconstruction_loss: 0.1595 - val_loss: 0.0000e+00\n",
            "Epoch 34/50\n",
            "\u001b[1m29/29\u001b[0m \u001b[32m━━━━━━━━━━━━━━━━━━━━\u001b[0m\u001b[37m\u001b[0m \u001b[1m0s\u001b[0m 7ms/step - kl_loss: 3.3559e-04 - loss: 0.1599 - reconstruction_loss: 0.1596 - val_loss: 0.0000e+00\n",
            "Epoch 35/50\n",
            "\u001b[1m29/29\u001b[0m \u001b[32m━━━━━━━━━━━━━━━━━━━━\u001b[0m\u001b[37m\u001b[0m \u001b[1m0s\u001b[0m 7ms/step - kl_loss: 3.2833e-04 - loss: 0.1609 - reconstruction_loss: 0.1606 - val_loss: 0.0000e+00\n",
            "Epoch 36/50\n",
            "\u001b[1m29/29\u001b[0m \u001b[32m━━━━━━━━━━━━━━━━━━━━\u001b[0m\u001b[37m\u001b[0m \u001b[1m0s\u001b[0m 7ms/step - kl_loss: 2.8988e-04 - loss: 0.1605 - reconstruction_loss: 0.1603 - val_loss: 0.0000e+00\n",
            "Epoch 37/50\n",
            "\u001b[1m29/29\u001b[0m \u001b[32m━━━━━━━━━━━━━━━━━━━━\u001b[0m\u001b[37m\u001b[0m \u001b[1m0s\u001b[0m 8ms/step - kl_loss: 3.0509e-04 - loss: 0.1617 - reconstruction_loss: 0.1614 - val_loss: 0.0000e+00\n",
            "Epoch 38/50\n",
            "\u001b[1m29/29\u001b[0m \u001b[32m━━━━━━━━━━━━━━━━━━━━\u001b[0m\u001b[37m\u001b[0m \u001b[1m0s\u001b[0m 8ms/step - kl_loss: 2.9974e-04 - loss: 0.1592 - reconstruction_loss: 0.1589 - val_loss: 0.0000e+00\n",
            "Epoch 39/50\n",
            "\u001b[1m29/29\u001b[0m \u001b[32m━━━━━━━━━━━━━━━━━━━━\u001b[0m\u001b[37m\u001b[0m \u001b[1m0s\u001b[0m 7ms/step - kl_loss: 3.2533e-04 - loss: 0.1594 - reconstruction_loss: 0.1591 - val_loss: 0.0000e+00\n",
            "Epoch 40/50\n",
            "\u001b[1m29/29\u001b[0m \u001b[32m━━━━━━━━━━━━━━━━━━━━\u001b[0m\u001b[37m\u001b[0m \u001b[1m0s\u001b[0m 7ms/step - kl_loss: 3.2676e-04 - loss: 0.1602 - reconstruction_loss: 0.1599 - val_loss: 0.0000e+00\n",
            "Epoch 41/50\n",
            "\u001b[1m29/29\u001b[0m \u001b[32m━━━━━━━━━━━━━━━━━━━━\u001b[0m\u001b[37m\u001b[0m \u001b[1m0s\u001b[0m 8ms/step - kl_loss: 2.9710e-04 - loss: 0.1614 - reconstruction_loss: 0.1611 - val_loss: 0.0000e+00\n",
            "Epoch 42/50\n",
            "\u001b[1m29/29\u001b[0m \u001b[32m━━━━━━━━━━━━━━━━━━━━\u001b[0m\u001b[37m\u001b[0m \u001b[1m0s\u001b[0m 8ms/step - kl_loss: 1.9358e-04 - loss: 0.1598 - reconstruction_loss: 0.1596 - val_loss: 0.0000e+00\n",
            "Epoch 43/50\n",
            "\u001b[1m29/29\u001b[0m \u001b[32m━━━━━━━━━━━━━━━━━━━━\u001b[0m\u001b[37m\u001b[0m \u001b[1m0s\u001b[0m 7ms/step - kl_loss: 1.8377e-04 - loss: 0.1597 - reconstruction_loss: 0.1595 - val_loss: 0.0000e+00\n",
            "Epoch 44/50\n",
            "\u001b[1m29/29\u001b[0m \u001b[32m━━━━━━━━━━━━━━━━━━━━\u001b[0m\u001b[37m\u001b[0m \u001b[1m0s\u001b[0m 8ms/step - kl_loss: 1.9887e-04 - loss: 0.1601 - reconstruction_loss: 0.1599 - val_loss: 0.0000e+00\n",
            "Epoch 45/50\n",
            "\u001b[1m29/29\u001b[0m \u001b[32m━━━━━━━━━━━━━━━━━━━━\u001b[0m\u001b[37m\u001b[0m \u001b[1m0s\u001b[0m 7ms/step - kl_loss: 1.8860e-04 - loss: 0.1594 - reconstruction_loss: 0.1592 - val_loss: 0.0000e+00\n",
            "Epoch 46/50\n",
            "\u001b[1m29/29\u001b[0m \u001b[32m━━━━━━━━━━━━━━━━━━━━\u001b[0m\u001b[37m\u001b[0m \u001b[1m0s\u001b[0m 8ms/step - kl_loss: 1.6776e-04 - loss: 0.1586 - reconstruction_loss: 0.1584 - val_loss: 0.0000e+00\n",
            "Epoch 47/50\n",
            "\u001b[1m29/29\u001b[0m \u001b[32m━━━━━━━━━━━━━━━━━━━━\u001b[0m\u001b[37m\u001b[0m \u001b[1m0s\u001b[0m 7ms/step - kl_loss: 1.7654e-04 - loss: 0.1596 - reconstruction_loss: 0.1594 - val_loss: 0.0000e+00\n",
            "Epoch 48/50\n",
            "\u001b[1m29/29\u001b[0m \u001b[32m━━━━━━━━━━━━━━━━━━━━\u001b[0m\u001b[37m\u001b[0m \u001b[1m0s\u001b[0m 8ms/step - kl_loss: 1.6863e-04 - loss: 0.1597 - reconstruction_loss: 0.1596 - val_loss: 0.0000e+00\n",
            "Epoch 49/50\n",
            "\u001b[1m29/29\u001b[0m \u001b[32m━━━━━━━━━━━━━━━━━━━━\u001b[0m\u001b[37m\u001b[0m \u001b[1m0s\u001b[0m 7ms/step - kl_loss: 1.5359e-04 - loss: 0.1608 - reconstruction_loss: 0.1606 - val_loss: 0.0000e+00\n",
            "Epoch 50/50\n",
            "\u001b[1m29/29\u001b[0m \u001b[32m━━━━━━━━━━━━━━━━━━━━\u001b[0m\u001b[37m\u001b[0m \u001b[1m0s\u001b[0m 7ms/step - kl_loss: 1.3131e-04 - loss: 0.1605 - reconstruction_loss: 0.1604 - val_loss: 0.0000e+00\n"
          ]
        },
        {
          "data": {
            "text/plain": [
              "<keras.src.callbacks.history.History at 0x1e8acca86e0>"
            ]
          },
          "execution_count": 4,
          "metadata": {},
          "output_type": "execute_result"
        }
      ],
      "source": [
        "vae.fit(X_train, X_train, epochs=50, batch_size=32, validation_data=(X_val, X_val))"
      ]
    },
    {
      "cell_type": "markdown",
      "metadata": {},
      "source": [
        "### 7. Detect Anomalies Using Reconstruction Error"
      ]
    },
    {
      "cell_type": "code",
      "execution_count": null,
      "metadata": {
        "colab": {
          "base_uri": "https://localhost:8080/"
        },
        "id": "zdPBdbMsMgXC",
        "outputId": "4502604c-7074-47fa-c009-c7e7c78270ca"
      },
      "outputs": [
        {
          "name": "stdout",
          "output_type": "stream",
          "text": [
            "\u001b[1m33/33\u001b[0m \u001b[32m━━━━━━━━━━━━━━━━━━━━\u001b[0m\u001b[37m\u001b[0m \u001b[1m0s\u001b[0m 6ms/step\n",
            "Anomaly threshold: 0.21418508514761925\n",
            "              precision    recall  f1-score   support\n",
            "\n",
            "           0       1.00      0.96      0.98      1000\n",
            "           1       0.55      1.00      0.71        50\n",
            "\n",
            "    accuracy                           0.96      1050\n",
            "   macro avg       0.77      0.98      0.84      1050\n",
            "weighted avg       0.98      0.96      0.97      1050\n",
            "\n"
          ]
        }
      ],
      "source": [
        "# Reconstruct all data\n",
        "X_pred = vae.predict(X_scaled)\n",
        "reconstruction_error = tf.keras.losses.mse(X_scaled, X_pred).numpy()\n",
        "\n",
        "# Set a threshold for anomaly detection\n",
        "threshold = reconstruction_error[y == 0].mean() + 2 * reconstruction_error[y == 0].std()\n",
        "print(\"Anomaly threshold:\", threshold)\n",
        "\n",
        "# Predict anomalies\n",
        "y_pred = [1 if err > threshold else 0 for err in reconstruction_error]\n",
        "\n",
        "# Accuracy\n",
        "print(classification_report(y, y_pred))"
      ]
    },
    {
      "cell_type": "markdown",
      "metadata": {},
      "source": [
        "### 8. Visualizing Errors the of anomoly Data"
      ]
    },
    {
      "cell_type": "code",
      "execution_count": null,
      "metadata": {
        "colab": {
          "base_uri": "https://localhost:8080/",
          "height": 487
        },
        "id": "SBCnItNpVMkl",
        "outputId": "0fc87a3b-6e69-4ba0-fb24-2a9ed1005a01"
      },
      "outputs": [
        {
          "data": {
            "image/png": "[encoded data removed]",
            "text/plain": [
              "<Figure size 1000x500 with 1 Axes>"
            ]
          },
          "metadata": {},
          "output_type": "display_data"
        }
      ],
      "source": [
        "#Anomaly threshold: 0.21418508514761925\n",
        "plt.figure(figsize=(10, 5))\n",
        "plt.hist(reconstruction_error, bins=50, alpha=0.7)\n",
        "plt.axvline(threshold, color='red', linestyle='--', label='Threshold')\n",
        "plt.title(\"Reconstruction Error Histogram\")\n",
        "plt.xlabel(\"Reconstruction Error\")\n",
        "plt.ylabel(\"Count\")\n",
        "plt.legend()\n",
        "plt.grid(True)\n",
        "plt.show()\n"
      ]
    },
    {
      "cell_type": "markdown",
      "metadata": {
        "id": "KoKnBfaWMjhz"
      },
      "source": []
    }
  ],
  "metadata": {
    "colab": {
      "provenance": []
    },
    "kernelspec": {
      "display_name": "base",
      "language": "python",
      "name": "python3"
    },
    "language_info": {
      "codemirror_mode": {
        "name": "ipython",
        "version": 3
      },
      "file_extension": ".py",
      "mimetype": "text/x-python",
      "name": "python",
      "nbconvert_exporter": "python",
      "pygments_lexer": "ipython3",
      "version": "3.12.7"
    }
  },
  "nbformat": 4,
  "nbformat_minor": 0
}
